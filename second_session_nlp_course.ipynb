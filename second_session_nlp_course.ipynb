{
 "cells": [
  {
   "cell_type": "markdown",
   "metadata": {},
   "source": [
    "# Introduction\n",
    "\n",
    "We have seen the traditional approach to NLP, but after the resurgence of neural networks, those become the state-of-the-art methods for NLP. In this session, we will see how to use neural networks for NLP tasks. We will start with the basics of neural networks and then move on to the advanced concepts. We will also see how to use pre-trained models for NLP tasks. We will use PyTorch for this session. \n",
    "\n",
    "In this session we will cover the following topics:\n",
    "\n",
    "- Introduction to Neural Networks\n",
    "- Activation Functions\n",
    "- Optimizers\n",
    "- Loss Functions\n",
    "- GRU and LSTM\n",
    "- Word Embeddings\n",
    "- Transformers (Attention mechanism)\n"
   ]
  },
  {
   "cell_type": "markdown",
   "metadata": {},
   "source": [
    "## What is a neural network? 🧠\n",
    "\n",
    "A neural network is a set of algorithms that are designed to recognize patterns. They interpret sensory data through a kind of machine perception, labeling or clustering raw input. The patterns they recognize are numerical, contained in vectors, into which all real-world data, be it images, sound, text or time series, must be translated. When created they were inspired by the way that biological nervous systems such as the brain process information, although today the architectures don't resemble biological neural networks.\n",
    "\n",
    "As the name implies, a neural network is a set of neurons which are connected to each other. \n",
    "<p align=\"center\">\n",
    "<img src=https://upload.wikimedia.org/wikipedia/commons/thumb/9/99/Neural_network_example.svg/1200px-Neural_network_example.svg.png height=200>\n",
    "</p>\n",
    "\n",
    "## Perceptron 🏋️\n",
    "\n",
    "The perceptron is the building block of a neural network. It is a single neuron that takes in a set of inputs, performs some calculations, and outputs a value.\n",
    "<p align=\"center\">\n",
    "<img src=https://images.deepai.org/glossary-terms/perceptron-6168423.jpg height=200>\n",
    "</p>\n",
    "\n",
    "The perceptron true power comes from the activation function, which allows it to learn non-linear relationships between the inputs and outputs. Without it the perceptron is just a linear regression model.\n",
    "\n",
    "## Activation Functions 🌋\n",
    "After we perform the weighted sum of the inputs and the weights, we need to pass the result through an activation function. The activation function changes the output of the perceptron based on the input. There are several different activation functions, depending on the problem we are trying to solve. Here are some of the most common ones:\n",
    "\n",
    "- Sigmoid\n",
    "- Tanh\n",
    "- ReLU\n",
    "- Leaky ReLU\n",
    "- Softmax\n",
    "\n",
    "You can find more details [here](https://en.wikipedia.org/wiki/Activation_function).\n",
    "\n",
    "\n",
    "# Loss functions 📉\n",
    "\n",
    "The purpose of a neural network is to find the best set of weights that will minimize the loss function. The loss function is a measure of how far off the neural network is from the true values. The loss function is also known as the cost function or the error function. There are several different loss functions, depending on the problem we are trying to solve. Here are some of the most common ones:\n",
    "\n",
    "- Mean Squared Error\n",
    "- Mean Absolute Error\n",
    "- Binary Cross Entropy\n",
    "- Categorical Cross Entropy\n",
    "\n",
    "You can find more details [here](https://en.wikipedia.org/wiki/Loss_function).\n",
    "\n",
    "# Optimizers 🚀\n",
    "\n",
    "The optimizer is the algorithm that will update the weights of the neural network. The optimizer is what makes the neural network learn. There are several different optimizers, depending on the problem we are trying to solve. Here are some of the most common ones:\n",
    "\n",
    "- Stochastic Gradient Descent\n",
    "- Adam\n",
    "- RMSProp\n",
    "- etc...\n",
    "\n",
    "<p align=\"center\">\n",
    "<img src=https://miro.medium.com/v2/resize:fit:1200/1*_osB82GKHBOT8k1idLqiqA.gif height=400>\n",
    "</p>\n"
   ]
  },
  {
   "cell_type": "markdown",
   "metadata": {},
   "source": [
    "# Lets build a simple neural network to classify the tweet emotions"
   ]
  },
  {
   "cell_type": "code",
   "execution_count": 1,
   "metadata": {},
   "outputs": [
    {
     "data": {
      "text/plain": [
       "451093"
      ]
     },
     "execution_count": 1,
     "metadata": {},
     "output_type": "execute_result"
    }
   ],
   "source": [
    "# We will reuse some of the code from previous notebook, lets put it here\n",
    "from sklearn.feature_extraction.text import TfidfVectorizer\n",
    "import pandas as pd\n",
    "import re\n",
    "\n",
    "# we will load the dataset\n",
    "df = pd.read_csv('datasets/tweet_emotions.csv')\n",
    "\n",
    "# We will change the function to replace specific usernames with the tag 'username'\n",
    "def replace_usernames(text: str) -> str:\n",
    "    \"\"\" A function that removes usernames from text. \"\"\"\n",
    "    return re.sub(r'@\\w+', 'username', text)\n",
    "\n",
    "# the tfidf vectorizer from sklearn has an option to use ngrams.... and do the preprocessing for us too :)\n",
    "\n",
    "# we will create an instance of the TfidfVectorizer\n",
    "vectorizer = TfidfVectorizer(strip_accents='ascii', lowercase=True, stop_words='english', ngram_range=(1,3), preprocessor=lambda x: replace_usernames(x))\n",
    "\n",
    "# we will fit the vectorizer to the corpus\n",
    "# but now the corpus is the raw text in the dataframe\n",
    "vectorizer.fit(df['content'].tolist())\n",
    "\n",
    "# we will get the vocabulary size\n",
    "len(vectorizer.vocabulary_)"
   ]
  },
  {
   "cell_type": "code",
   "execution_count": 2,
   "metadata": {},
   "outputs": [
    {
     "data": {
      "text/html": [
       "<div>\n",
       "<style scoped>\n",
       "    .dataframe tbody tr th:only-of-type {\n",
       "        vertical-align: middle;\n",
       "    }\n",
       "\n",
       "    .dataframe tbody tr th {\n",
       "        vertical-align: top;\n",
       "    }\n",
       "\n",
       "    .dataframe thead th {\n",
       "        text-align: right;\n",
       "    }\n",
       "</style>\n",
       "<table border=\"1\" class=\"dataframe\">\n",
       "  <thead>\n",
       "    <tr style=\"text-align: right;\">\n",
       "      <th></th>\n",
       "      <th>tweet_id</th>\n",
       "      <th>sentiment</th>\n",
       "      <th>content</th>\n",
       "      <th>sentiment_id</th>\n",
       "    </tr>\n",
       "  </thead>\n",
       "  <tbody>\n",
       "    <tr>\n",
       "      <th>0</th>\n",
       "      <td>1956967341</td>\n",
       "      <td>empty</td>\n",
       "      <td>@tiffanylue i know  i was listenin to bad habi...</td>\n",
       "      <td>0</td>\n",
       "    </tr>\n",
       "    <tr>\n",
       "      <th>1</th>\n",
       "      <td>1956967666</td>\n",
       "      <td>sadness</td>\n",
       "      <td>Layin n bed with a headache  ughhhh...waitin o...</td>\n",
       "      <td>1</td>\n",
       "    </tr>\n",
       "    <tr>\n",
       "      <th>2</th>\n",
       "      <td>1956967696</td>\n",
       "      <td>sadness</td>\n",
       "      <td>Funeral ceremony...gloomy friday...</td>\n",
       "      <td>1</td>\n",
       "    </tr>\n",
       "    <tr>\n",
       "      <th>3</th>\n",
       "      <td>1956967789</td>\n",
       "      <td>enthusiasm</td>\n",
       "      <td>wants to hang out with friends SOON!</td>\n",
       "      <td>2</td>\n",
       "    </tr>\n",
       "    <tr>\n",
       "      <th>4</th>\n",
       "      <td>1956968416</td>\n",
       "      <td>neutral</td>\n",
       "      <td>@dannycastillo We want to trade with someone w...</td>\n",
       "      <td>3</td>\n",
       "    </tr>\n",
       "  </tbody>\n",
       "</table>\n",
       "</div>"
      ],
      "text/plain": [
       "     tweet_id   sentiment                                            content  \\\n",
       "0  1956967341       empty  @tiffanylue i know  i was listenin to bad habi...   \n",
       "1  1956967666     sadness  Layin n bed with a headache  ughhhh...waitin o...   \n",
       "2  1956967696     sadness                Funeral ceremony...gloomy friday...   \n",
       "3  1956967789  enthusiasm               wants to hang out with friends SOON!   \n",
       "4  1956968416     neutral  @dannycastillo We want to trade with someone w...   \n",
       "\n",
       "   sentiment_id  \n",
       "0             0  \n",
       "1             1  \n",
       "2             1  \n",
       "3             2  \n",
       "4             3  "
      ]
     },
     "execution_count": 2,
     "metadata": {},
     "output_type": "execute_result"
    }
   ],
   "source": [
    "# we enumerate the unique values and then convert it to a dictionary where the key is the index and the value is the sentiment\n",
    "id2sent = dict(enumerate(df['sentiment'].unique()))\n",
    "sent2id = {v:k for k,v in id2sent.items()}\n",
    "# now we can create a column with the numeric values\n",
    "df['sentiment_id'] = df['sentiment'].map(sent2id)\n",
    "df.head()"
   ]
  },
  {
   "cell_type": "code",
   "execution_count": 58,
   "metadata": {},
   "outputs": [
    {
     "data": {
      "text/plain": [
       "(40000, 451093)"
      ]
     },
     "execution_count": 58,
     "metadata": {},
     "output_type": "execute_result"
    }
   ],
   "source": [
    "# get the tfidf matrix\n",
    "X = vectorizer.transform(df['content'].tolist())\n",
    "X.shape"
   ]
  },
  {
   "cell_type": "code",
   "execution_count": 60,
   "metadata": {},
   "outputs": [
    {
     "name": "stdout",
     "output_type": "stream",
     "text": [
      "Using mps device\n"
     ]
    }
   ],
   "source": [
    "import torch\n",
    "# Check if there is any hardware acceleration available\n",
    "device = (\n",
    "    \"cuda\"\n",
    "    if torch.cuda.is_available()\n",
    "    else \"mps\"\n",
    "    if torch.backends.mps.is_available()\n",
    "    else \"cpu\"\n",
    ")\n",
    "print(f\"Using {device} device\")"
   ]
  },
  {
   "cell_type": "code",
   "execution_count": 61,
   "metadata": {},
   "outputs": [
    {
     "name": "stdout",
     "output_type": "stream",
     "text": [
      "Sequential(\n",
      "  (layer_1): Linear(in_features=451093, out_features=10, bias=True)\n",
      "  (relu_1): ReLU()\n",
      "  (layer_2): Linear(in_features=10, out_features=13, bias=True)\n",
      ")\n"
     ]
    }
   ],
   "source": [
    "# lets use pytorch to build a simple neural network to classify the sentiment of the tweets\n",
    "\n",
    "\n",
    "INPUT_DIM=X.shape[1]\n",
    "OUTPUT_DIM=len(id2sent)\n",
    "\n",
    "model=torch.nn.Sequential()\n",
    "\n",
    "# add the first layer\n",
    "model.add_module(\"layer_1\",torch.nn.Linear(INPUT_DIM,10))\n",
    "model.add_module(\"relu_1\",torch.nn.ReLU())\n",
    "\n",
    "# add the second layer\n",
    "model.add_module(\"layer_2\",torch.nn.Linear(10,OUTPUT_DIM))\n",
    "\n",
    "\n",
    "# print the model\n",
    "print(model)\n"
   ]
  },
  {
   "cell_type": "code",
   "execution_count": 62,
   "metadata": {},
   "outputs": [
    {
     "data": {
      "text/plain": [
       "tensor([[1., 0., 0.,  ..., 0., 0., 0.],\n",
       "        [0., 1., 0.,  ..., 0., 0., 0.],\n",
       "        [0., 1., 0.,  ..., 0., 0., 0.],\n",
       "        ...,\n",
       "        [0., 0., 0.,  ..., 0., 0., 0.],\n",
       "        [0., 0., 0.,  ..., 0., 0., 0.],\n",
       "        [0., 0., 0.,  ..., 0., 0., 0.]])"
      ]
     },
     "execution_count": 62,
     "metadata": {},
     "output_type": "execute_result"
    }
   ],
   "source": [
    "y = df['sentiment_id'].tolist()\n",
    "# one hot encode the labels\n",
    "y = torch.LongTensor(y)\n",
    "y = torch.nn.functional.one_hot(y).type(torch.FloatTensor)\n",
    "y"
   ]
  },
  {
   "cell_type": "code",
   "execution_count": 63,
   "metadata": {},
   "outputs": [],
   "source": [
    "import numpy as np\n",
    "X = X.tocoo()\n",
    "X = torch.sparse.FloatTensor(torch.LongTensor([X.row.tolist(), X.col.tolist()]),\n",
    "                              torch.FloatTensor(X.data.astype(np.float32)))"
   ]
  },
  {
   "cell_type": "code",
   "execution_count": 64,
   "metadata": {},
   "outputs": [],
   "source": [
    "\n",
    "# we need to convert the data into tensors\n",
    "# we will use the torch.tensor method to convert the data into tensors\n",
    "# we will use the torch.utils.data.TensorDataset method to create a dataset\n",
    "# we will use the torch.utils.data.DataLoader method to create a dataloader\n",
    "from torch.utils.data import TensorDataset, DataLoader\n",
    "\n",
    "# lets create a dataset\n",
    "dataset = TensorDataset(X, y)\n",
    "\n",
    "total_count = len(dataset)\n",
    "train_count = int(0.8 * total_count) \n",
    "test_count = int(0.2 * total_count)\n",
    "train_dataset, test_dataset = torch.utils.data.random_split(dataset, (train_count, test_count))\n",
    "\n",
    "\n"
   ]
  },
  {
   "cell_type": "code",
   "execution_count": 65,
   "metadata": {},
   "outputs": [],
   "source": [
    "# Initialize the loss function\n",
    "from torch import nn\n",
    "learning_rate = 1e-3\n",
    "batch_size = 64\n",
    "epochs = 5\n",
    "\n",
    "loss_fn = nn.CrossEntropyLoss()\n",
    "optimizer = torch.optim.SGD(model.parameters(), lr=learning_rate)\n",
    "\n",
    "# lets create a dataloader\n",
    "train_dataloader = DataLoader(train_dataset, batch_size=batch_size, shuffle=True)\n",
    "test_dataloader = DataLoader(test_dataset, batch_size=batch_size, shuffle=True)\n",
    "\n"
   ]
  },
  {
   "cell_type": "code",
   "execution_count": 66,
   "metadata": {},
   "outputs": [
    {
     "data": {
      "text/plain": [
       "tensor([ 0.1825,  0.3018, -0.0280,  0.1696,  0.2526, -0.2803, -0.0494,  0.2940,\n",
       "         0.2917, -0.0610,  0.1822,  0.0581, -0.1227], grad_fn=<AddBackward0>)"
      ]
     },
     "execution_count": 66,
     "metadata": {},
     "output_type": "execute_result"
    }
   ],
   "source": [
    "model(train_dataloader.dataset[0][0])"
   ]
  },
  {
   "cell_type": "code",
   "execution_count": 67,
   "metadata": {},
   "outputs": [],
   "source": [
    "def train_loop(dataloader, model, loss_fn, optimizer):\n",
    "    size = len(dataloader.dataset)\n",
    "    # Set the model to training mode - important for batch normalization and dropout layers\n",
    "    # Unnecessary in this situation but added for best practices\n",
    "    model.train()\n",
    "    for batch, (X, y) in enumerate(dataloader):\n",
    "        # Compute prediction and loss\n",
    "        pred = model(X)\n",
    "        loss = loss_fn(pred, y)\n",
    "\n",
    "        # Backpropagation\n",
    "        loss.backward()\n",
    "        optimizer.step()\n",
    "        optimizer.zero_grad()\n",
    "\n",
    "        if batch % 100 == 0:\n",
    "            loss, current = loss.item(), (batch + 1) * len(X)\n",
    "            print(f\"loss: {loss:>7f}  [{current:>5d}/{size:>5d}]\")\n",
    "\n",
    "\n",
    "def test_loop(dataloader, model, loss_fn):\n",
    "    # Set the model to evaluation mode - important for batch normalization and dropout layers\n",
    "    # Unnecessary in this situation but added for best practices\n",
    "    model.eval()\n",
    "    size = len(dataloader.dataset)\n",
    "    num_batches = len(dataloader)\n",
    "    test_loss, correct = 0, 0\n",
    "\n",
    "    # Evaluating the model with torch.no_grad() ensures that no gradients are computed during test mode\n",
    "    # also serves to reduce unnecessary gradient computations and memory usage for tensors with requires_grad=True\n",
    "    with torch.no_grad():\n",
    "        for X, y in dataloader:\n",
    "            X = X.to_dense()\n",
    "            pred = model(X)\n",
    "            test_loss += loss_fn(pred, y).item()\n",
    "            correct += (pred.argmax(1) == y.argmax(1)).type(torch.float).sum().item()\n",
    "\n",
    "    test_loss /= num_batches\n",
    "    correct /= size\n",
    "    print(f\"Test Error: \\n Accuracy: {(100*correct):>0.1f}%, Avg loss: {test_loss:>8f} \\n\")"
   ]
  },
  {
   "cell_type": "code",
   "execution_count": 68,
   "metadata": {},
   "outputs": [
    {
     "name": "stdout",
     "output_type": "stream",
     "text": [
      "Epoch 1\n",
      "-------------------------------\n",
      "loss: 2.546578  [   64/32000]\n",
      "loss: 2.515484  [ 6464/32000]\n",
      "loss: 2.555255  [12864/32000]\n",
      "loss: 2.539111  [19264/32000]\n",
      "loss: 2.510663  [25664/32000]\n",
      "Test Error: \n",
      " Accuracy: 13.1%, Avg loss: 2.511683 \n",
      "\n",
      "Epoch 2\n",
      "-------------------------------\n",
      "loss: 2.510912  [   64/32000]\n",
      "loss: 2.537103  [ 6464/32000]\n",
      "loss: 2.497170  [12864/32000]\n",
      "loss: 2.492035  [19264/32000]\n",
      "loss: 2.507124  [25664/32000]\n",
      "Test Error: \n",
      " Accuracy: 20.5%, Avg loss: 2.482708 \n",
      "\n",
      "Epoch 3\n",
      "-------------------------------\n",
      "loss: 2.481926  [   64/32000]\n",
      "loss: 2.518422  [ 6464/32000]\n",
      "loss: 2.482430  [12864/32000]\n",
      "loss: 2.459758  [19264/32000]\n",
      "loss: 2.460720  [25664/32000]\n",
      "Test Error: \n",
      " Accuracy: 20.5%, Avg loss: 2.456182 \n",
      "\n",
      "Epoch 4\n",
      "-------------------------------\n",
      "loss: 2.456648  [   64/32000]\n",
      "loss: 2.420851  [ 6464/32000]\n",
      "loss: 2.452658  [12864/32000]\n",
      "loss: 2.424931  [19264/32000]\n",
      "loss: 2.442272  [25664/32000]\n",
      "Test Error: \n",
      " Accuracy: 20.5%, Avg loss: 2.431857 \n",
      "\n",
      "Epoch 5\n",
      "-------------------------------\n",
      "loss: 2.439312  [   64/32000]\n",
      "loss: 2.458579  [ 6464/32000]\n",
      "loss: 2.431319  [12864/32000]\n",
      "loss: 2.431954  [19264/32000]\n",
      "loss: 2.389564  [25664/32000]\n",
      "Test Error: \n",
      " Accuracy: 20.5%, Avg loss: 2.409531 \n",
      "\n",
      "Done!\n"
     ]
    }
   ],
   "source": [
    "\n",
    "for t in range(epochs):\n",
    "    print(f\"Epoch {t+1}\\n-------------------------------\")\n",
    "    train_loop(train_dataloader, model, loss_fn, optimizer)\n",
    "    test_loop(test_dataloader, model, loss_fn)\n",
    "print(\"Done!\")"
   ]
  },
  {
   "cell_type": "markdown",
   "metadata": {},
   "source": [
    "## Embeddings\n",
    "As we can see the performance is pretty bad, even though we are using neural networks. This is because we are not optimizing our representations. We are just using vectors with the size of the vocabulary. We can do better than that. We can use embeddings. Embeddings are a way to represent words in a vector space. The idea is that words that are similar will be close to each other in the vector space. We can use pre-trained embeddings or we can train our own embeddings.\n",
    "\n",
    "The ideal latent space (vector space) is where semantically similar words are close together. For example, the words \"car\" and \"automobile\" are similar, so they should be close together in the vector space. The same goes for \"bike\" and \"bicycle\". The words \"car\" and \"bicycle\" are not similar, so they should be far apart in the vector space.\n",
    "\n",
    "<p align=\"center\">\n",
    "<img src=\"https://miro.medium.com/v2/resize:fit:2000/1*SYiW1MUZul1NvL1kc1RxwQ.png\" width=\"600\" />\n",
    "</p>\n",
    "\n",
    "### The two most common ways to create word embeddings are:\n",
    "- **Word2Vec** (Mikolov et al., 2013)\n",
    "- **GloVe** (Pennington et al., 2014)\n",
    "\n",
    "\n",
    "## Should I train my own embedder model? 🤔\n",
    "It depends, most of the time is not worth it. If you have tons of data and enough computational power, then you can train your own model. Otherwise, you can use a pre-trained model. And if you have a very specific domain, you can do **fine-tuning**. Which means, taking advantage of the features the pre-trained representations have learned and then adjust the model to your domain.\n",
    "\n",
    "## Where do I get the pretrained models? 🤗\n",
    "There are many places you can find the pretrained models, but the most popular one is [Hugging Face](https://huggingface.co/). They have a lot of models for different tasks and different languages. You can also find the models in the [TensorFlow Hub](https://tfhub.dev/).\n",
    "\n",
    "\n",
    "## Transformers 🤖\n",
    "Up to 2017, the word2vec and Glove approaches were the state-of-the-art, but that year a groundbreaking paper was published: [Attention is all you need](https://arxiv.org/abs/1706.03762). This paper introduced the **Transformer** architecture. This architecture is based on the attention mechanism. The attention mechanism is a way to learn the relationships between the words in a sentence. The transformer architecture is the base for the **BERT**, **GPT-{1:4}**, **Palm**, **LLaMA** models, which are the state-of-the-art model for NLP tasks."
   ]
  },
  {
   "cell_type": "code",
   "execution_count": 74,
   "metadata": {},
   "outputs": [
    {
     "name": "stderr",
     "output_type": "stream",
     "text": [
      "/Users/ernesto/miniforge3/envs/hackathon/lib/python3.10/site-packages/torchtext/data/utils.py:105: UserWarning: Spacy model \"en\" could not be loaded, trying \"en_core_web_sm\" instead\n",
      "  warnings.warn(\n"
     ]
    },
    {
     "name": "stdout",
     "output_type": "stream",
     "text": [
      "['Hello', 'World', 'my', 'name', 'is', 'better', 'than', 'yours', '!']\n"
     ]
    }
   ],
   "source": []
  },
  {
   "cell_type": "code",
   "execution_count": 49,
   "metadata": {},
   "outputs": [
    {
     "data": {
      "text/plain": [
       "(tensor(indices=tensor([[309511, 309510, 309423, 309095, 309094, 217870, 204079,\n",
       "                         204078, 204077, 105789, 105783, 105778,  90048,  90046,\n",
       "                          89980,  63633,  63632,  63515,  43073,  43072,  42922,\n",
       "                          27304,  27297,  27178,  10100,  10099,  10053]]),\n",
       "        values=tensor([0, 0, 0, 0, 0, 0, 0, 0, 0, 0, 0, 0, 0, 0, 0, 0, 0, 0, 0,\n",
       "                       0, 0, 0, 0, 0, 0, 0, 0]),\n",
       "        size=(451093,), nnz=27, layout=torch.sparse_coo),\n",
       " tensor([0, 0, 0, 1, 0, 0, 0, 0, 0, 0, 0, 0, 0]))"
      ]
     },
     "execution_count": 49,
     "metadata": {},
     "output_type": "execute_result"
    }
   ],
   "source": []
  },
  {
   "cell_type": "code",
   "execution_count": null,
   "metadata": {},
   "outputs": [],
   "source": []
  }
 ],
 "metadata": {
  "kernelspec": {
   "display_name": "Python 3",
   "language": "python",
   "name": "python3"
  },
  "language_info": {
   "codemirror_mode": {
    "name": "ipython",
    "version": 3
   },
   "file_extension": ".py",
   "mimetype": "text/x-python",
   "name": "python",
   "nbconvert_exporter": "python",
   "pygments_lexer": "ipython3",
   "version": "3.10.6"
  },
  "orig_nbformat": 4
 },
 "nbformat": 4,
 "nbformat_minor": 2
}
